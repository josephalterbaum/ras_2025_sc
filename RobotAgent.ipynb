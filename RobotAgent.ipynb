{
 "cells": [
  {
   "cell_type": "markdown",
   "id": "26999565",
   "metadata": {},
   "source": [
    "# Robot Agent Implementation\n",
    "The newly added robotic arm shall be implemented as an agent that has the goal to dynamically handle field level erros to ensure continued operation in cases of equipment failures."
   ]
  },
  {
   "cell_type": "code",
   "execution_count": 1,
   "id": "bf556077",
   "metadata": {},
   "outputs": [],
   "source": [
    "import time\n",
    "import paho.mqtt.client as mqtt\n",
    "from owlready2 import *"
   ]
  },
  {
   "cell_type": "code",
   "execution_count": 3,
   "id": "8e063ca7",
   "metadata": {},
   "outputs": [],
   "source": [
    "class RobotAgent:\n",
    "\n",
    "    def __init__(self):\n",
    "\n",
    "        self.public_broker_address = \"test.mosquitto.org\"\n",
    "        self.public_broker_port = 1883\n",
    "\n",
    "        self.client = mqtt.Client()\n",
    "        self.client.on_connect = self.on_connect\n",
    "        self.client.on_message = self.on_message\n",
    "\n",
    "        self.client.connect(self.public_broker_address, self.public_broker_port, keepalive=60)\n",
    "        self.client.loop_start()\n",
    "        \n",
    "        #self.print_all_1_sec()\n",
    "        print(\"Initialized Robot Agent\")\n",
    "\n",
    "    def on_connect(self, client, userdata, flags, rc):\n",
    "        print(\"Connection establishing result code: \", str(rc))\n",
    "        self.client.subscribe(\"ReportSensorDataAndError/SwitchError\")\n",
    "    \n",
    "    def on_message(self, client, userdata, msg):\n",
    "        print(f\"Received msg on topic {msg.topic}: {msg.payload.decode()}\")\n",
    "    \n",
    "    def print_all_1_sec(self):\n",
    "        x = 0\n",
    "        while x < 10:\n",
    "            print(f\"Initializing {x}/10\")\n",
    "            time.sleep(1)\n",
    "            x += 1"
   ]
  },
  {
   "cell_type": "code",
   "execution_count": null,
   "id": "d6ac4f1c",
   "metadata": {},
   "outputs": [
    {
     "name": "stdout",
     "output_type": "stream",
     "text": [
      "Initialized Robot Agent\n"
     ]
    },
    {
     "name": "stderr",
     "output_type": "stream",
     "text": [
      "C:\\Users\\Hoefgen\\AppData\\Local\\Temp\\ipykernel_6672\\1650943136.py:8: DeprecationWarning: Callback API version 1 is deprecated, update to latest version\n",
      "  self.client = mqtt.Client()\n"
     ]
    },
    {
     "name": "stdout",
     "output_type": "stream",
     "text": [
      "Connection establishing result code:  0\n",
      "Received msg on topic ReportSensorDataAndError/SwitchError: Err:SwitchID2\n",
      "Received msg on topic ReportSensorDataAndError/SwitchError: Err:SwitchID2\n",
      "Received msg on topic ReportSensorDataAndError/SwitchError: Err:SwitchID2\n",
      "Received msg on topic ReportSensorDataAndError/SwitchError: Err:SwitchID2\n",
      "Received msg on topic ReportSensorDataAndError/SwitchError: Err:SwitchID2\n"
     ]
    }
   ],
   "source": [
    "r = RobotAgent()"
   ]
  }
 ],
 "metadata": {
  "kernelspec": {
   "display_name": "Python 3",
   "language": "python",
   "name": "python3"
  },
  "language_info": {
   "codemirror_mode": {
    "name": "ipython",
    "version": 3
   },
   "file_extension": ".py",
   "mimetype": "text/x-python",
   "name": "python",
   "nbconvert_exporter": "python",
   "pygments_lexer": "ipython3",
   "version": "3.12.3"
  }
 },
 "nbformat": 4,
 "nbformat_minor": 5
}
