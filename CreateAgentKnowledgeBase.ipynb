{
 "cells": [
  {
   "cell_type": "markdown",
   "id": "0cf9a81f",
   "metadata": {},
   "source": [
    "# Agent Knowledge Base Creation\n",
    "This script implements the agents knowledege base as an OWL ontology.\n",
    "It later allows the robot agent to query for required position information to perform dynamic error handling."
   ]
  },
  {
   "cell_type": "code",
   "execution_count": null,
   "id": "905fcf2a",
   "metadata": {},
   "outputs": [],
   "source": [
    "from owlready2 import *"
   ]
  },
  {
   "cell_type": "code",
   "execution_count": 4,
   "id": "8c0b6426",
   "metadata": {},
   "outputs": [
    {
     "name": "stdout",
     "output_type": "stream",
     "text": [
      "Class System\n",
      "Class SystemComponent\n"
     ]
    }
   ],
   "source": [
    "agent_kb = get_ontology(\"http://ais.tum.de/myyoghurt_kb.owl\")\n",
    "\n",
    "with agent_kb:\n",
    "    class System(Thing):\n",
    "        pass\n",
    "    class SystemComponent(Thing):\n",
    "        pass\n",
    "    class has_component(SystemComponent >> System):\n",
    "        pass\n",
    "\n",
    "for c in agent_kb.classes():\n",
    "    print(f\"Class {c.name}\")\n",
    "\n",
    "agent_kb.save(\"agent_kb.owl\", format=\"rdfxml\")"
   ]
  }
 ],
 "metadata": {
  "kernelspec": {
   "display_name": "Python 3",
   "language": "python",
   "name": "python3"
  },
  "language_info": {
   "codemirror_mode": {
    "name": "ipython",
    "version": 3
   },
   "file_extension": ".py",
   "mimetype": "text/x-python",
   "name": "python",
   "nbconvert_exporter": "python",
   "pygments_lexer": "ipython3",
   "version": "3.12.3"
  }
 },
 "nbformat": 4,
 "nbformat_minor": 5
}
