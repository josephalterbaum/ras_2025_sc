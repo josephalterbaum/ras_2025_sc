{
 "cells": [
  {
   "cell_type": "markdown",
   "id": "1827b15e",
   "metadata": {},
   "source": [
    "# MyYoghurt Agent\n",
    "This notebook provides an example interface for the MyYoghurt against which the Robot-Agent can be implemented in a test environment.\n",
    "It publishes sensor data and importantly the error messages via a public MQTT broker."
   ]
  },
  {
   "cell_type": "code",
   "execution_count": 14,
   "id": "fd03ebb5",
   "metadata": {},
   "outputs": [],
   "source": [
    "import paho.mqtt.client as mqtt"
   ]
  },
  {
   "cell_type": "code",
   "execution_count": 15,
   "id": "010366cb",
   "metadata": {},
   "outputs": [],
   "source": [
    "class MyYoghurtPlantAgent:\n",
    "\n",
    "    def __init__(self):\n",
    "\n",
    "        self.public_broker_address = \"test.mosquitto.org\"\n",
    "        self.public_broker_port = 1883\n",
    "        self.exercise_topic = \"ReportSensorDataAndError/SwitchError\"\n",
    "\n",
    "        self.client = mqtt.Client()\n",
    "        self.client.on_connect = self.on_connect\n",
    "        self.client.on_message = self.on_message\n",
    "\n",
    "        self.client.connect(self.public_broker_address, self.public_broker_port, keepalive=60)\n",
    "        \n",
    "        self.client.publish(\"ReportSensorDataAndError/SwitchError\", \"Err:SwitchID2\")\n",
    "        self.client.loop_start() # Clarify the usage of loop start\n",
    "\n",
    "    def on_connect(self, client, userdata, flags, rc):\n",
    "        print(\"Connection establishing result code: \", str(rc))\n",
    "    \n",
    "    def on_message(self, client, userdata, msg):\n",
    "        print(f\"Received msg on topic {msg.topic}: {msg.payload.decode()}\")\n"
   ]
  },
  {
   "cell_type": "code",
   "execution_count": 16,
   "id": "9800b9aa",
   "metadata": {},
   "outputs": [
    {
     "name": "stderr",
     "output_type": "stream",
     "text": [
      "C:\\Users\\Hoefgen\\AppData\\Local\\Temp\\ipykernel_17364\\3487904844.py:9: DeprecationWarning: Callback API version 1 is deprecated, update to latest version\n",
      "  self.client = mqtt.Client()\n"
     ]
    },
    {
     "name": "stdout",
     "output_type": "stream",
     "text": [
      "Connection establishing result code:  0\n"
     ]
    }
   ],
   "source": [
    "myYoghurt = MyYoghurtPlantAgent()"
   ]
  }
 ],
 "metadata": {
  "kernelspec": {
   "display_name": "Python 3",
   "language": "python",
   "name": "python3"
  },
  "language_info": {
   "codemirror_mode": {
    "name": "ipython",
    "version": 3
   },
   "file_extension": ".py",
   "mimetype": "text/x-python",
   "name": "python",
   "nbconvert_exporter": "python",
   "pygments_lexer": "ipython3",
   "version": "3.12.3"
  }
 },
 "nbformat": 4,
 "nbformat_minor": 5
}
